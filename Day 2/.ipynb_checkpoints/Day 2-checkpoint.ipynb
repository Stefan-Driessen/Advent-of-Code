{
 "cells": [
  {
   "cell_type": "code",
   "execution_count": 1,
   "metadata": {
    "ExecuteTime": {
     "end_time": "2022-12-10T21:59:23.150198Z",
     "start_time": "2022-12-10T21:59:23.141901Z"
    }
   },
   "outputs": [],
   "source": [
    "with open('input.txt') as f:\n",
    "    rows = f.read()"
   ]
  },
  {
   "cell_type": "code",
   "execution_count": 12,
   "metadata": {
    "ExecuteTime": {
     "end_time": "2022-12-10T22:14:48.551554Z",
     "start_time": "2022-12-10T22:14:48.537558Z"
    },
    "code_folding": [
     1
    ]
   },
   "outputs": [],
   "source": [
    "scoreDict = {'X': 1, 'Y': 2, 'Z': 3}\n",
    "def score(elf, me):\n",
    "    if elf == 'A':\n",
    "        if me == 'X':\n",
    "            return 3 + scoreDict[me]\n",
    "        if me == 'Y':\n",
    "            return 6 + scoreDict[me]\n",
    "        if me == 'Z':\n",
    "            return 0 + scoreDict[me]\n",
    "    elif elf == 'B':\n",
    "        if me == 'X':\n",
    "            return 1\n",
    "        if me == 'Y':\n",
    "            return 3 + scoreDict[me]\n",
    "        if me == 'Z':\n",
    "            return 6 + scoreDict[me]\n",
    "    else:\n",
    "        if me == 'X':\n",
    "            return 6 + scoreDict[me]\n",
    "        if me == 'Y':\n",
    "            return 0 + scoreDict[me]\n",
    "        else:\n",
    "            return 3 + scoreDict[me]\n",
    "        \n",
    "def score2(elf, me):\n",
    "    if elf == \"A\":\n",
    "        if me == \"X\":\n",
    "            return 3\n",
    "        if me == \"Y\":\n",
    "            return 4\n",
    "        if me == \"Z\":\n",
    "            return 8\n",
    "    elif elf == \"B\":\n",
    "        if me == \"X\":\n",
    "            return 1\n",
    "        if me == \"Y\":\n",
    "            return 5\n",
    "        else:\n",
    "            return 9\n",
    "    else:\n",
    "        if me == \"X\":\n",
    "            return 2\n",
    "        if me == \"Y\":\n",
    "            return 6\n",
    "        else:\n",
    "            return 7"
   ]
  },
  {
   "cell_type": "code",
   "execution_count": 13,
   "metadata": {
    "ExecuteTime": {
     "end_time": "2022-12-10T22:14:50.050937Z",
     "start_time": "2022-12-10T22:14:50.036525Z"
    }
   },
   "outputs": [
    {
     "data": {
      "text/plain": [
       "16862"
      ]
     },
     "execution_count": 13,
     "metadata": {},
     "output_type": "execute_result"
    }
   ],
   "source": [
    "totScore = 0\n",
    "for row in rows.split('\\n'):\n",
    "    totScore += score2(row[0], row[2])\n",
    "totScore"
   ]
  },
  {
   "cell_type": "code",
   "execution_count": null,
   "metadata": {},
   "outputs": [],
   "source": []
  }
 ],
 "metadata": {
  "kernelspec": {
   "display_name": "Python 3",
   "language": "python",
   "name": "python3"
  },
  "language_info": {
   "codemirror_mode": {
    "name": "ipython",
    "version": 3
   },
   "file_extension": ".py",
   "mimetype": "text/x-python",
   "name": "python",
   "nbconvert_exporter": "python",
   "pygments_lexer": "ipython3",
   "version": "3.7.4"
  },
  "latex_envs": {
   "LaTeX_envs_menu_present": true,
   "autoclose": false,
   "autocomplete": true,
   "bibliofile": "biblio.bib",
   "cite_by": "apalike",
   "current_citInitial": 1,
   "eqLabelWithNumbers": true,
   "eqNumInitial": 1,
   "hotkeys": {
    "equation": "Ctrl-E",
    "itemize": "Ctrl-I"
   },
   "labels_anchors": false,
   "latex_user_defs": false,
   "report_style_numbering": false,
   "user_envs_cfg": false
  }
 },
 "nbformat": 4,
 "nbformat_minor": 4
}
