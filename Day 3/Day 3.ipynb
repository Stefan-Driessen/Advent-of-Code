{
 "cells": [
  {
   "cell_type": "code",
   "execution_count": 37,
   "metadata": {
    "ExecuteTime": {
     "end_time": "2022-12-11T12:36:08.865018Z",
     "start_time": "2022-12-11T12:36:08.860766Z"
    }
   },
   "outputs": [],
   "source": [
    "testinput = \"\"\"vJrwpWtwJgWrhcsFMMfFFhFp\n",
    "jqHRNqRjqzjGDLGLrsFMfFZSrLrFZsSL\n",
    "PmmdzqPrVvPwwTWBwg\n",
    "wMqvLMZHhHMvwLHjbvcjnnSBnvTQFn\n",
    "ttgJtRGJQctTZtZT\n",
    "CrZsJsPPZsGzwwsLwLmpwMDw\"\"\"\n",
    "\n",
    "with open('input.txt') as f:\n",
    "    backpacks = f.read()"
   ]
  },
  {
   "cell_type": "code",
   "execution_count": 40,
   "metadata": {
    "ExecuteTime": {
     "end_time": "2022-12-11T12:47:57.112502Z",
     "start_time": "2022-12-11T12:47:57.106933Z"
    }
   },
   "outputs": [],
   "source": [
    "def charToInt(char):\n",
    "    if ord(char) in range(97, 123):\n",
    "        return ord(char) - 96\n",
    "    else:\n",
    "        return ord(char) - 38\n",
    "\n",
    "def findCommon(str1, str2):\n",
    "    return list(set(str1).intersection(set(str2)))[0]\n",
    "\n",
    "def findCommonThree(str1, str2, str3):\n",
    "    return list(set(str1) & set(str2) & set(str3))[0]"
   ]
  },
  {
   "cell_type": "code",
   "execution_count": 46,
   "metadata": {
    "ExecuteTime": {
     "end_time": "2022-12-11T12:50:18.533431Z",
     "start_time": "2022-12-11T12:50:18.515424Z"
    }
   },
   "outputs": [
    {
     "data": {
      "text/plain": [
       "2738"
      ]
     },
     "execution_count": 46,
     "metadata": {},
     "output_type": "execute_result"
    }
   ],
   "source": [
    "prioSum = 0\n",
    "for i, bp in enumerate(backpacks.split('\\n')):\n",
    "    if i % 3 == 0:\n",
    "        str1 = bp\n",
    "    elif i % 3 == 1:\n",
    "        str2 = bp\n",
    "    else:\n",
    "        str3 = bp\n",
    "        prioSum += charToInt(findCommonThree(str1, str2, str3))\n",
    "        \n",
    "prioSum"
   ]
  },
  {
   "cell_type": "code",
   "execution_count": 39,
   "metadata": {
    "ExecuteTime": {
     "end_time": "2022-12-11T12:36:18.868342Z",
     "start_time": "2022-12-11T12:36:18.858893Z"
    }
   },
   "outputs": [
    {
     "data": {
      "text/plain": [
       "8109"
      ]
     },
     "execution_count": 39,
     "metadata": {},
     "output_type": "execute_result"
    }
   ],
   "source": [
    "prioSum = 0\n",
    "\n",
    "for bp in backpacks.split('\\n'):\n",
    "    halfway = int(len(bp)/2)\n",
    "    s1 = bp[:halfway]\n",
    "    s2 = bp[halfway:]\n",
    "    prioSum += charToInt(findCommon(s1, s2))\n",
    "    \n",
    "prioSum"
   ]
  }
 ],
 "metadata": {
  "kernelspec": {
   "display_name": "Python 3",
   "language": "python",
   "name": "python3"
  },
  "language_info": {
   "codemirror_mode": {
    "name": "ipython",
    "version": 3
   },
   "file_extension": ".py",
   "mimetype": "text/x-python",
   "name": "python",
   "nbconvert_exporter": "python",
   "pygments_lexer": "ipython3",
   "version": "3.7.4"
  },
  "latex_envs": {
   "LaTeX_envs_menu_present": true,
   "autoclose": false,
   "autocomplete": true,
   "bibliofile": "biblio.bib",
   "cite_by": "apalike",
   "current_citInitial": 1,
   "eqLabelWithNumbers": true,
   "eqNumInitial": 1,
   "hotkeys": {
    "equation": "Ctrl-E",
    "itemize": "Ctrl-I"
   },
   "labels_anchors": false,
   "latex_user_defs": false,
   "report_style_numbering": false,
   "user_envs_cfg": false
  }
 },
 "nbformat": 4,
 "nbformat_minor": 4
}
