{
 "cells": [
  {
   "cell_type": "code",
   "execution_count": 1,
   "metadata": {
    "ExecuteTime": {
     "end_time": "2022-12-12T16:56:42.557894Z",
     "start_time": "2022-12-12T16:56:42.427281Z"
    }
   },
   "outputs": [],
   "source": [
    "import numpy as np"
   ]
  },
  {
   "cell_type": "code",
   "execution_count": 2,
   "metadata": {
    "ExecuteTime": {
     "end_time": "2022-12-12T16:56:42.565178Z",
     "start_time": "2022-12-12T16:56:42.560556Z"
    }
   },
   "outputs": [],
   "source": [
    "with open('input.txt') as f:\n",
    "    trees = f.read().split('\\n')"
   ]
  },
  {
   "cell_type": "code",
   "execution_count": 3,
   "metadata": {
    "ExecuteTime": {
     "end_time": "2022-12-12T16:56:42.578310Z",
     "start_time": "2022-12-12T16:56:42.568379Z"
    }
   },
   "outputs": [],
   "source": [
    "jungle = np.arange(9801)\n",
    "jungle = jungle.reshape((99, 99))\n",
    "for row, treeline in zip(jungle, trees):\n",
    "#     print(row, treeline)\n",
    "#     print(len(row), len(treeline))\n",
    "    for col, char in zip(row, treeline):\n",
    "#         print(col % 99, char)\n",
    "        row[col % 99] = int(char)"
   ]
  },
  {
   "cell_type": "code",
   "execution_count": 32,
   "metadata": {
    "ExecuteTime": {
     "end_time": "2022-12-12T17:04:38.977862Z",
     "start_time": "2022-12-12T17:04:38.958909Z"
    },
    "code_folding": [
     0
    ]
   },
   "outputs": [],
   "source": [
    "def visible(jung, X, Y):\n",
    "    if X == 0:\n",
    "        return 1\n",
    "    elif X == 98:\n",
    "        return 1\n",
    "    elif Y == 0:\n",
    "        return 1\n",
    "    elif Y == 98:\n",
    "        return 1\n",
    "    else:\n",
    "        height = jung[X][Y]\n",
    "        #Leftcheck\n",
    "        visible = True\n",
    "        for j in range(Y):\n",
    "            if jung[X][j] >= height:\n",
    "                visible = False\n",
    "                break\n",
    "        if visible:\n",
    "            return 1\n",
    "        # Rightcheck\n",
    "        visible = True\n",
    "        for j in range(99-Y-1):\n",
    "            if jung[X][j+Y+1] >= height:\n",
    "                visible = False\n",
    "                break\n",
    "        if visible:\n",
    "            return 1\n",
    "        # Topcheck\n",
    "        visible = True\n",
    "        for j in range(X):\n",
    "            if jung[j][Y] >= height:\n",
    "                visible = False\n",
    "                break\n",
    "        if visible:\n",
    "            return 1\n",
    "        # Bottomcheck\n",
    "        visible = True\n",
    "        for j in range(99-X-1):\n",
    "            if jung[j+X+1][Y] >= height:\n",
    "                visible = False\n",
    "                break\n",
    "        if visible:\n",
    "            return 1\n",
    "        return 0\n",
    "        \n",
    "def scenicScore(jung, X, Y):\n",
    "    if X == 0:\n",
    "        return 0\n",
    "    elif X == 98:\n",
    "        return 0\n",
    "    elif Y == 0:\n",
    "        return 0\n",
    "    elif Y == 98:\n",
    "        return 0\n",
    "    else:\n",
    "        height = jung[X][Y]\n",
    "        #Leftcheck\n",
    "        left = 0\n",
    "        for j in range(Y):\n",
    "            left += 1\n",
    "            if jung[X][Y-j-1] >= height:\n",
    "                break\n",
    "        # Rightcheck\n",
    "        right = 0\n",
    "        for j in range(Y+1, 99):\n",
    "            right += 1\n",
    "            if jung[X][j] >= height:\n",
    "                break\n",
    "        # Topcheck\n",
    "        top = 0\n",
    "        for j in range(X):\n",
    "            top += 1\n",
    "            if jung[X-j-1][Y] >= height:\n",
    "                break\n",
    "        # Bottomcheck\n",
    "        bottom = 0\n",
    "        for j in range(X + 1, 99):\n",
    "            bottom += 1\n",
    "            if jung[j][Y] >= height:\n",
    "                break\n",
    "#         print(left, right, top, bottom)\n",
    "        return left * right * top * bottom"
   ]
  },
  {
   "cell_type": "code",
   "execution_count": 34,
   "metadata": {
    "ExecuteTime": {
     "end_time": "2022-12-12T17:04:46.124679Z",
     "start_time": "2022-12-12T17:04:46.039179Z"
    },
    "scrolled": true
   },
   "outputs": [
    {
     "name": "stdout",
     "output_type": "stream",
     "text": [
      "1 1\n",
      "1 3\n",
      "1 9\n",
      "1 23\n",
      "2 40\n",
      "3 67\n",
      "5 38\n",
      "7 25\n",
      "8 30\n",
      "10 35\n",
      "17 41\n",
      "18 37\n",
      "23 52\n"
     ]
    },
    {
     "data": {
      "text/plain": [
       "385112"
      ]
     },
     "execution_count": 34,
     "metadata": {},
     "output_type": "execute_result"
    }
   ],
   "source": [
    "maxScore = 0\n",
    "for i, row in enumerate(jungle):\n",
    "    for j, col in enumerate(row):\n",
    "        newScore = scenicScore(jungle, i, j)\n",
    "        if newScore > maxScore:\n",
    "            print(i,j)\n",
    "            maxScore = newScore\n",
    "maxScore"
   ]
  }
 ],
 "metadata": {
  "kernelspec": {
   "display_name": "Python 3",
   "language": "python",
   "name": "python3"
  },
  "language_info": {
   "codemirror_mode": {
    "name": "ipython",
    "version": 3
   },
   "file_extension": ".py",
   "mimetype": "text/x-python",
   "name": "python",
   "nbconvert_exporter": "python",
   "pygments_lexer": "ipython3",
   "version": "3.7.4"
  },
  "latex_envs": {
   "LaTeX_envs_menu_present": true,
   "autoclose": false,
   "autocomplete": true,
   "bibliofile": "biblio.bib",
   "cite_by": "apalike",
   "current_citInitial": 1,
   "eqLabelWithNumbers": true,
   "eqNumInitial": 1,
   "hotkeys": {
    "equation": "Ctrl-E",
    "itemize": "Ctrl-I"
   },
   "labels_anchors": false,
   "latex_user_defs": false,
   "report_style_numbering": false,
   "user_envs_cfg": false
  }
 },
 "nbformat": 4,
 "nbformat_minor": 4
}
