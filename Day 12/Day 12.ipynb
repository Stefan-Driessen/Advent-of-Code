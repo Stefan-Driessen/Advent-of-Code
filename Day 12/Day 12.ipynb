{
 "cells": [
  {
   "cell_type": "code",
   "execution_count": 1,
   "metadata": {
    "ExecuteTime": {
     "end_time": "2022-12-12T12:38:05.214479Z",
     "start_time": "2022-12-12T12:38:05.204760Z"
    }
   },
   "outputs": [],
   "source": [
    "class Node:\n",
    "    def __init__(self, X, Y, Z, dist):\n",
    "        self.X = X\n",
    "        self.Y = Y\n",
    "        self.Z = Z\n",
    "        self.dist = dist\n",
    "    \n",
    "    def setDist(self, dist):\n",
    "        self.dist = dist\n",
    "        \n",
    "    def setZ(self, Z):\n",
    "        self.Z = Z\n",
    "        \n",
    "    def __str__(self):\n",
    "        return f\"X: {self.X}, Y: {self.Y}, Z: {self.Z}, dist: {self.dist}\""
   ]
  },
  {
   "cell_type": "code",
   "execution_count": 2,
   "metadata": {
    "ExecuteTime": {
     "end_time": "2022-12-12T12:38:05.233565Z",
     "start_time": "2022-12-12T12:38:05.220331Z"
    }
   },
   "outputs": [],
   "source": [
    "unvisited = set()\n",
    "visited = set()\n",
    "distanced = set()\n",
    "with open('input.txt') as f:\n",
    "    for i, row in enumerate(f.read().split('\\n')):\n",
    "        for j, square in enumerate(row):\n",
    "            newNode = Node(j, i, ord(square), 2600)\n",
    "            unvisited.add(newNode)\n",
    "            if square == 'E':\n",
    "                curNode = newNode\n",
    "                curNode.setDist(0)\n",
    "                distanced.add(curNode)\n",
    "                curNode.setZ(ord('z'))\n",
    "            elif square == 'S':\n",
    "                newNode.setZ(ord('a'))"
   ]
  },
  {
   "cell_type": "code",
   "execution_count": 3,
   "metadata": {
    "ExecuteTime": {
     "end_time": "2022-12-12T12:38:05.242795Z",
     "start_time": "2022-12-12T12:38:05.236010Z"
    }
   },
   "outputs": [],
   "source": [
    "def findUnvisitedNeighbours(node):\n",
    "    unvisitedNeighbours = set()\n",
    "    for potNeighbour in unvisited:\n",
    "        if (potNeighbour.X == node.X) & (abs(potNeighbour.Y - node.Y) == 1) & (potNeighbour.Z - node.Z >= -1):\n",
    "            unvisitedNeighbours.add(potNeighbour)\n",
    "        elif (potNeighbour.Y == node.Y) & (abs(potNeighbour.X - node.X) == 1) & (potNeighbour.Z - node.Z >= -1):\n",
    "            unvisitedNeighbours.add(potNeighbour)\n",
    "    return unvisitedNeighbours"
   ]
  },
  {
   "cell_type": "code",
   "execution_count": 4,
   "metadata": {
    "ExecuteTime": {
     "end_time": "2022-12-12T12:38:08.476361Z",
     "start_time": "2022-12-12T12:38:05.250604Z"
    }
   },
   "outputs": [
    {
     "data": {
      "text/plain": [
       "321"
      ]
     },
     "execution_count": 4,
     "metadata": {},
     "output_type": "execute_result"
    }
   ],
   "source": [
    "while(curNode.Z != ord('a')):\n",
    "    # Add distances to neighbours\n",
    "    for nb in findUnvisitedNeighbours(curNode):\n",
    "        if nb.dist > curNode.dist:\n",
    "            nb.dist = curNode.dist + 1\n",
    "            distanced.add(nb)\n",
    "#     print(curNode)\n",
    "#     print(curNode in unvisited)\n",
    "#     print(curNode in visited)\n",
    "    visited.add(curNode)\n",
    "    unvisited.remove(curNode)\n",
    "    \n",
    "    # Choose nextnode\n",
    "    minDist = 2600\n",
    "    nextNode = None\n",
    "    for pnn in (distanced - visited):\n",
    "        if pnn.dist < minDist:\n",
    "            minDist = pnn.dist\n",
    "            nextNode = pnn\n",
    "    \n",
    "#     print(distanced-visited)\n",
    "    assert nextNode is not None, \"Didn't find a nextNode!\"\n",
    "    curNode = nextNode\n",
    "\n",
    "curNode.dist\n",
    "# endNode.dist"
   ]
  },
  {
   "cell_type": "code",
   "execution_count": 5,
   "metadata": {
    "ExecuteTime": {
     "end_time": "2022-12-12T12:38:08.601125Z",
     "start_time": "2022-12-12T12:38:08.485109Z"
    }
   },
   "outputs": [
    {
     "ename": "NameError",
     "evalue": "name 'endNode' is not defined",
     "output_type": "error",
     "traceback": [
      "\u001b[0;31m---------------------------------------------------------------------------\u001b[0m",
      "\u001b[0;31mNameError\u001b[0m                                 Traceback (most recent call last)",
      "\u001b[0;32m<ipython-input-5-7a7b317fcdeb>\u001b[0m in \u001b[0;36m<module>\u001b[0;34m\u001b[0m\n\u001b[0;32m----> 1\u001b[0;31m \u001b[0mprint\u001b[0m\u001b[0;34m(\u001b[0m\u001b[0mendNode\u001b[0m\u001b[0;34m)\u001b[0m\u001b[0;34m\u001b[0m\u001b[0;34m\u001b[0m\u001b[0m\n\u001b[0m",
      "\u001b[0;31mNameError\u001b[0m: name 'endNode' is not defined"
     ]
    }
   ],
   "source": [
    "print(endNode)"
   ]
  }
 ],
 "metadata": {
  "kernelspec": {
   "display_name": "Python 3",
   "language": "python",
   "name": "python3"
  },
  "language_info": {
   "codemirror_mode": {
    "name": "ipython",
    "version": 3
   },
   "file_extension": ".py",
   "mimetype": "text/x-python",
   "name": "python",
   "nbconvert_exporter": "python",
   "pygments_lexer": "ipython3",
   "version": "3.7.4"
  },
  "latex_envs": {
   "LaTeX_envs_menu_present": true,
   "autoclose": false,
   "autocomplete": true,
   "bibliofile": "biblio.bib",
   "cite_by": "apalike",
   "current_citInitial": 1,
   "eqLabelWithNumbers": true,
   "eqNumInitial": 1,
   "hotkeys": {
    "equation": "Ctrl-E",
    "itemize": "Ctrl-I"
   },
   "labels_anchors": false,
   "latex_user_defs": false,
   "report_style_numbering": false,
   "user_envs_cfg": false
  }
 },
 "nbformat": 4,
 "nbformat_minor": 4
}
