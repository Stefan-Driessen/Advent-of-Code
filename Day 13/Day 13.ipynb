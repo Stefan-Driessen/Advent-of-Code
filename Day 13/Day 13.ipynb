{
 "cells": [
  {
   "cell_type": "code",
   "execution_count": 1,
   "metadata": {
    "ExecuteTime": {
     "end_time": "2022-12-13T10:35:39.714518Z",
     "start_time": "2022-12-13T10:35:39.708431Z"
    }
   },
   "outputs": [],
   "source": [
    "with open('input.txt') as f:\n",
    "    pairs = f.read().split('\\n\\n')"
   ]
  },
  {
   "cell_type": "code",
   "execution_count": 2,
   "metadata": {
    "ExecuteTime": {
     "end_time": "2022-12-13T10:35:39.734439Z",
     "start_time": "2022-12-13T10:35:39.722803Z"
    }
   },
   "outputs": [],
   "source": [
    "def ordered(left, right):\n",
    "    l = left.copy()\n",
    "    r = right.copy()\n",
    "#     print(f'{l} - {r}')\n",
    "    if (len(l) == 0) & (len(r) > 0):\n",
    "        return True\n",
    "    elif (len(l) > 0) & (len(r) == 0):\n",
    "        return False\n",
    "    if l == r:\n",
    "        return \"cornercase\"\n",
    "    elif l[0] == r[0]:\n",
    "        return ordered(l[1:], r[1:])\n",
    "    elif type(l[0]) == int:\n",
    "        if type(r[0]) == int:\n",
    "            if l[0] < r[0]:\n",
    "                return True\n",
    "            elif l[0] > r[0]:\n",
    "                return False\n",
    "            else:\n",
    "                return ordered(l[1:], r[1:])\n",
    "        else:\n",
    "            # type r[0] = list\n",
    "            listEl = [l[0]]\n",
    "            l[0] = listEl\n",
    "            return ordered(l, r)\n",
    "    elif type(r[0]) == int:\n",
    "        # type l[0] = list\n",
    "#         print(f'I believe the type of {r[0]} is {type([0])} and that is equal to int: ')\n",
    "        listEl = [r[0]]\n",
    "        r[0] = listEl\n",
    "        return ordered(l, r)\n",
    "    else:\n",
    "        # l[0] and r[0] are both lists\n",
    "        # It is safe to compare the first list items. Akchually...\n",
    "        potAns = ordered(l[0], r[0])\n",
    "#         print(f'potAns: {potAns}, potAns == \"cornercase\"')\n",
    "        if potAns == \"cornercase\":\n",
    "            return ordered(l[1:], r[1:])\n",
    "        else:\n",
    "            return potAns\n",
    "        "
   ]
  },
  {
   "cell_type": "code",
   "execution_count": 3,
   "metadata": {
    "ExecuteTime": {
     "end_time": "2022-12-13T10:35:39.750071Z",
     "start_time": "2022-12-13T10:35:39.738196Z"
    }
   },
   "outputs": [
    {
     "data": {
      "text/plain": [
       "False"
      ]
     },
     "execution_count": 3,
     "metadata": {},
     "output_type": "execute_result"
    }
   ],
   "source": [
    "ordered([[[[10]], 10, []], [], [7, [[0, 9, 7, 10, 2]], [[7], 1, 6, 10, [9]]]], [[10, 1, [[4, 0, 6, 4], [2]]], [7, 7, 3, [], [0]], [7, 0]])"
   ]
  },
  {
   "cell_type": "code",
   "execution_count": 4,
   "metadata": {
    "ExecuteTime": {
     "end_time": "2022-12-13T10:35:39.794725Z",
     "start_time": "2022-12-13T10:35:39.753771Z"
    },
    "scrolled": true
   },
   "outputs": [],
   "source": [
    "i = 1\n",
    "soi = 0\n",
    "for pair in pairs:\n",
    "#     print(i)\n",
    "    p1, p2 = pair.split('\\n')\n",
    "    l = eval(p1)\n",
    "    r = eval(p2)\n",
    "    if ordered(l, r):\n",
    "        soi += i\n",
    "    i += 1"
   ]
  },
  {
   "cell_type": "code",
   "execution_count": 5,
   "metadata": {
    "ExecuteTime": {
     "end_time": "2022-12-13T10:35:39.822572Z",
     "start_time": "2022-12-13T10:35:39.797762Z"
    }
   },
   "outputs": [
    {
     "data": {
      "text/plain": [
       "5503"
      ]
     },
     "execution_count": 5,
     "metadata": {},
     "output_type": "execute_result"
    }
   ],
   "source": [
    "soi"
   ]
  },
  {
   "cell_type": "code",
   "execution_count": 6,
   "metadata": {
    "ExecuteTime": {
     "end_time": "2022-12-13T10:35:39.847382Z",
     "start_time": "2022-12-13T10:35:39.838364Z"
    }
   },
   "outputs": [],
   "source": [
    "def bubbleSort(packetList):\n",
    "    unfinished = True\n",
    "    it = 0\n",
    "    while(unfinished):\n",
    "        print([[2]] in packetList)\n",
    "        unfinished = False\n",
    "        for i in range(len(packetList) - 1):\n",
    "            if ordered(packetList[i], packetList[i+1]):\n",
    "                pass\n",
    "            else:\n",
    "#                 print(f\"Found unordered pair at {i} during it {it}\")\n",
    "                unfinished = True\n",
    "                packetList[i], packetList[i + 1] = packetList[i + 1], packetList[i]\n",
    "        it += 1\n",
    "    return packetList"
   ]
  },
  {
   "cell_type": "code",
   "execution_count": 7,
   "metadata": {
    "ExecuteTime": {
     "end_time": "2022-12-13T10:35:39.892445Z",
     "start_time": "2022-12-13T10:35:39.864004Z"
    }
   },
   "outputs": [],
   "source": [
    "pL =  [[[2]], [[6]]]\n",
    "it = 1\n",
    "for pair in pairs:\n",
    "    p1, p2 = pair.split('\\n')\n",
    "    l = eval(p1)\n",
    "    r = eval(p2)\n",
    "    pL.append(l)\n",
    "    pL.append(r)"
   ]
  },
  {
   "cell_type": "code",
   "execution_count": 8,
   "metadata": {
    "ExecuteTime": {
     "end_time": "2022-12-13T10:35:40.778504Z",
     "start_time": "2022-12-13T10:35:39.896379Z"
    }
   },
   "outputs": [
    {
     "name": "stdout",
     "output_type": "stream",
     "text": [
      "True\n",
      "True\n",
      "True\n",
      "True\n",
      "True\n",
      "True\n",
      "True\n",
      "True\n",
      "True\n",
      "True\n",
      "True\n",
      "True\n",
      "True\n",
      "True\n",
      "True\n",
      "True\n",
      "True\n",
      "True\n",
      "True\n",
      "True\n",
      "True\n",
      "True\n",
      "True\n",
      "True\n",
      "True\n",
      "True\n",
      "True\n",
      "True\n",
      "True\n",
      "True\n",
      "True\n",
      "True\n",
      "True\n",
      "True\n",
      "True\n",
      "True\n",
      "True\n",
      "True\n",
      "True\n",
      "True\n",
      "True\n",
      "True\n",
      "True\n",
      "True\n",
      "True\n",
      "True\n",
      "True\n",
      "True\n",
      "True\n",
      "True\n",
      "True\n",
      "True\n",
      "True\n",
      "True\n",
      "True\n",
      "True\n",
      "True\n",
      "True\n",
      "True\n",
      "True\n",
      "True\n",
      "True\n",
      "True\n",
      "True\n",
      "True\n",
      "True\n",
      "True\n",
      "True\n",
      "True\n",
      "True\n",
      "True\n",
      "True\n",
      "True\n",
      "True\n",
      "True\n",
      "True\n",
      "True\n",
      "True\n",
      "True\n",
      "True\n",
      "True\n",
      "True\n",
      "True\n",
      "True\n",
      "True\n",
      "True\n",
      "True\n",
      "True\n",
      "True\n",
      "True\n",
      "True\n",
      "True\n",
      "True\n",
      "True\n",
      "True\n",
      "True\n",
      "True\n",
      "True\n",
      "True\n",
      "True\n",
      "True\n",
      "True\n",
      "True\n",
      "True\n",
      "True\n",
      "True\n",
      "True\n",
      "True\n",
      "True\n",
      "True\n",
      "True\n",
      "True\n",
      "True\n",
      "True\n",
      "True\n",
      "True\n",
      "True\n",
      "True\n",
      "True\n",
      "True\n",
      "True\n",
      "True\n",
      "True\n",
      "True\n",
      "True\n",
      "True\n",
      "True\n",
      "True\n",
      "True\n",
      "True\n",
      "True\n",
      "True\n",
      "True\n",
      "True\n",
      "True\n",
      "True\n",
      "True\n",
      "True\n",
      "True\n",
      "True\n",
      "True\n",
      "True\n",
      "True\n",
      "True\n",
      "True\n",
      "True\n",
      "True\n",
      "True\n",
      "True\n",
      "True\n",
      "True\n",
      "True\n",
      "True\n",
      "True\n",
      "True\n",
      "True\n",
      "True\n",
      "True\n",
      "True\n",
      "True\n",
      "True\n",
      "True\n",
      "True\n",
      "True\n",
      "True\n",
      "True\n",
      "True\n",
      "True\n",
      "True\n",
      "True\n",
      "True\n",
      "True\n",
      "True\n",
      "True\n",
      "True\n",
      "True\n",
      "True\n",
      "True\n",
      "True\n",
      "True\n",
      "True\n",
      "True\n",
      "True\n",
      "True\n",
      "True\n",
      "True\n",
      "True\n",
      "True\n",
      "True\n",
      "True\n",
      "True\n",
      "True\n",
      "True\n",
      "True\n",
      "True\n",
      "True\n",
      "True\n",
      "True\n",
      "True\n",
      "True\n",
      "True\n",
      "True\n",
      "True\n",
      "True\n",
      "True\n",
      "True\n",
      "True\n",
      "True\n",
      "True\n",
      "True\n",
      "True\n",
      "True\n",
      "True\n",
      "True\n",
      "True\n",
      "True\n",
      "True\n",
      "True\n",
      "True\n",
      "True\n",
      "True\n",
      "True\n",
      "True\n",
      "True\n",
      "True\n",
      "True\n",
      "True\n",
      "True\n",
      "True\n",
      "True\n",
      "True\n",
      "True\n",
      "True\n",
      "True\n",
      "True\n",
      "True\n",
      "True\n",
      "True\n",
      "True\n",
      "True\n",
      "True\n",
      "True\n",
      "True\n",
      "True\n",
      "True\n",
      "True\n",
      "True\n",
      "True\n",
      "True\n",
      "True\n",
      "True\n",
      "True\n",
      "True\n",
      "True\n",
      "True\n",
      "True\n",
      "True\n",
      "True\n",
      "True\n",
      "True\n",
      "True\n",
      "True\n",
      "True\n",
      "True\n",
      "True\n",
      "True\n",
      "True\n",
      "True\n",
      "True\n",
      "True\n",
      "True\n",
      "True\n",
      "True\n",
      "True\n",
      "True\n",
      "True\n",
      "True\n"
     ]
    }
   ],
   "source": [
    "ans = bubbleSort(pL)"
   ]
  },
  {
   "cell_type": "code",
   "execution_count": 9,
   "metadata": {
    "ExecuteTime": {
     "end_time": "2022-12-13T10:35:40.797346Z",
     "start_time": "2022-12-13T10:35:40.787060Z"
    }
   },
   "outputs": [
    {
     "name": "stdout",
     "output_type": "stream",
     "text": [
      "107\n",
      "193\n"
     ]
    }
   ],
   "source": [
    "for i, p in enumerate(ans):\n",
    "    if p == [[2]]:\n",
    "        print(i)\n",
    "    elif p == [[6]]:\n",
    "        print(i)"
   ]
  }
 ],
 "metadata": {
  "kernelspec": {
   "display_name": "Python 3",
   "language": "python",
   "name": "python3"
  },
  "language_info": {
   "codemirror_mode": {
    "name": "ipython",
    "version": 3
   },
   "file_extension": ".py",
   "mimetype": "text/x-python",
   "name": "python",
   "nbconvert_exporter": "python",
   "pygments_lexer": "ipython3",
   "version": "3.7.4"
  },
  "latex_envs": {
   "LaTeX_envs_menu_present": true,
   "autoclose": false,
   "autocomplete": true,
   "bibliofile": "biblio.bib",
   "cite_by": "apalike",
   "current_citInitial": 1,
   "eqLabelWithNumbers": true,
   "eqNumInitial": 1,
   "hotkeys": {
    "equation": "Ctrl-E",
    "itemize": "Ctrl-I"
   },
   "labels_anchors": false,
   "latex_user_defs": false,
   "report_style_numbering": false,
   "user_envs_cfg": false
  }
 },
 "nbformat": 4,
 "nbformat_minor": 4
}
