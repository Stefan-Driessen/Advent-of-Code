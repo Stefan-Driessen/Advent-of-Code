{
 "cells": [
  {
   "cell_type": "code",
   "execution_count": 1,
   "metadata": {
    "ExecuteTime": {
     "end_time": "2022-12-11T11:07:07.662473Z",
     "start_time": "2022-12-11T11:07:07.644721Z"
    }
   },
   "outputs": [
    {
     "data": {
      "text/plain": [
       "3"
      ]
     },
     "execution_count": 1,
     "metadata": {},
     "output_type": "execute_result"
    }
   ],
   "source": [
    "int(10/3)"
   ]
  },
  {
   "cell_type": "code",
   "execution_count": 2,
   "metadata": {
    "ExecuteTime": {
     "end_time": "2022-12-11T11:07:07.676969Z",
     "start_time": "2022-12-11T11:07:07.667148Z"
    },
    "code_folding": [
     11
    ]
   },
   "outputs": [],
   "source": [
    "class Monkey:\n",
    "    def __init__(self, items, opop, opval, div, trueTarget, falseTarget, name):\n",
    "        self.items = items\n",
    "        self.opop = opop\n",
    "        self.opval = opval\n",
    "        self.div = div\n",
    "        self.trueTarget = trueTarget\n",
    "        self.falseTarget = falseTarget\n",
    "        self.name = name\n",
    "        self.level = 0\n",
    "        \n",
    "    def setTargets(self, trueTarget, falseTarget):\n",
    "        self.trueTarget = trueTarget\n",
    "        self.falseTarget = falseTarget\n",
    "    \n",
    "    def operation(self):\n",
    "        self.level += 1\n",
    "        old = self.items.pop()\n",
    "        if self.opop == \"+\":\n",
    "            new = old + self.opval\n",
    "        elif self.opop ==\"*\":\n",
    "            new = old * self.opval\n",
    "        else:\n",
    "            new = old*old\n",
    "#         print(f\"{old} was turned into {new}/3 = {int(new/3)}\")\n",
    "        return new % 9699690\n",
    "    \n",
    "    def test(self, item):\n",
    "        if item % self.div == 0:\n",
    "            self.trueTarget.items.append(item)\n",
    "#             print(f\"Sending {item} to {self.trueTarget.name}\")\n",
    "        else:\n",
    "            self.falseTarget.items.append(item)\n",
    "#             print(f\"Sending {item} to {self.falseTarget.name}\")\n",
    "            \n",
    "    def monkeyRound(self):\n",
    "#         print(f\"{self.name} is starting a new Monkey Round\")\n",
    "#         print(f\"Starting items: {self.items}\")\n",
    "        while len(self.items) > 0:\n",
    "            new = self.operation()\n",
    "            self.test(new)\n",
    "#             print(f\"current items: {self.items}\")"
   ]
  },
  {
   "cell_type": "code",
   "execution_count": 3,
   "metadata": {
    "ExecuteTime": {
     "end_time": "2022-12-11T11:07:07.695896Z",
     "start_time": "2022-12-11T11:07:07.682359Z"
    }
   },
   "outputs": [],
   "source": [
    "m0 = Monkey([54, 61, 97, 63, 74], \"*\", 7, 17, None, None, \"m0\")\n",
    "m1 = Monkey([61, 70, 97, 64, 99, 83, 52, 87], \"+\", 8, 2, None, None, \"m1\")\n",
    "m2 = Monkey([60, 67, 80, 65], \"*\", 13, 5, None, None, \"m2\")\n",
    "m3 = Monkey([61, 70, 76, 69, 82, 56], \"+\", 7, 3, None, None, \"m3\")\n",
    "m4 = Monkey([79, 98], \"+\", 2, 7, None, None, \"m4\")\n",
    "m5 = Monkey([72, 79, 55], \"+\", 1, 13, None, None, \"m5\")\n",
    "m6 = Monkey([63], \"+\", 4, 19, None, None, \"m6\")\n",
    "m7 = Monkey([72, 51, 93, 63, 80, 86, 81], \"old\", None, 11, None, None, \"m7\")"
   ]
  },
  {
   "cell_type": "code",
   "execution_count": 4,
   "metadata": {
    "ExecuteTime": {
     "end_time": "2022-12-11T11:07:07.711373Z",
     "start_time": "2022-12-11T11:07:07.699018Z"
    }
   },
   "outputs": [],
   "source": [
    "m0.setTargets(m5, m3)\n",
    "m1.setTargets(m7, m6)\n",
    "m2.setTargets(m1, m6)\n",
    "m3.setTargets(m5, m2)\n",
    "m4.setTargets(m0, m3)\n",
    "m5.setTargets(m2, m1)\n",
    "m6.setTargets(m7, m4)\n",
    "m7.setTargets(m0, m4)"
   ]
  },
  {
   "cell_type": "code",
   "execution_count": 5,
   "metadata": {
    "ExecuteTime": {
     "end_time": "2022-12-11T11:07:07.722256Z",
     "start_time": "2022-12-11T11:07:07.714494Z"
    }
   },
   "outputs": [],
   "source": [
    "def monkeyRounds():\n",
    "    m0.monkeyRound()\n",
    "    m1.monkeyRound()\n",
    "    m2.monkeyRound()\n",
    "    m3.monkeyRound()\n",
    "    m4.monkeyRound()\n",
    "    m5.monkeyRound()\n",
    "    m6.monkeyRound()\n",
    "    m7.monkeyRound()"
   ]
  },
  {
   "cell_type": "code",
   "execution_count": 6,
   "metadata": {
    "ExecuteTime": {
     "end_time": "2022-12-11T11:07:08.309656Z",
     "start_time": "2022-12-11T11:07:07.726059Z"
    }
   },
   "outputs": [
    {
     "name": "stdout",
     "output_type": "stream",
     "text": [
      "0\n",
      "100\n",
      "200\n",
      "300\n",
      "400\n",
      "500\n",
      "600\n",
      "700\n",
      "800\n",
      "900\n",
      "1000\n",
      "1100\n",
      "1200\n",
      "1300\n",
      "1400\n",
      "1500\n",
      "1600\n",
      "1700\n",
      "1800\n",
      "1900\n",
      "2000\n",
      "2100\n",
      "2200\n",
      "2300\n",
      "2400\n",
      "2500\n",
      "2600\n",
      "2700\n",
      "2800\n",
      "2900\n",
      "3000\n",
      "3100\n",
      "3200\n",
      "3300\n",
      "3400\n",
      "3500\n",
      "3600\n",
      "3700\n",
      "3800\n",
      "3900\n",
      "4000\n",
      "4100\n",
      "4200\n",
      "4300\n",
      "4400\n",
      "4500\n",
      "4600\n",
      "4700\n",
      "4800\n",
      "4900\n",
      "5000\n",
      "5100\n",
      "5200\n",
      "5300\n",
      "5400\n",
      "5500\n",
      "5600\n",
      "5700\n",
      "5800\n",
      "5900\n",
      "6000\n",
      "6100\n",
      "6200\n",
      "6300\n",
      "6400\n",
      "6500\n",
      "6600\n",
      "6700\n",
      "6800\n",
      "6900\n",
      "7000\n",
      "7100\n",
      "7200\n",
      "7300\n",
      "7400\n",
      "7500\n",
      "7600\n",
      "7700\n",
      "7800\n",
      "7900\n",
      "8000\n",
      "8100\n",
      "8200\n",
      "8300\n",
      "8400\n",
      "8500\n",
      "8600\n",
      "8700\n",
      "8800\n",
      "8900\n",
      "9000\n",
      "9100\n",
      "9200\n",
      "9300\n",
      "9400\n",
      "9500\n",
      "9600\n",
      "9700\n",
      "9800\n",
      "9900\n",
      "m0: 10659\n",
      "m1: 70776\n",
      "m2: 73630\n",
      "m3: 109098\n",
      "m4: 106461\n",
      "m5: 62841\n",
      "m6: 61442\n",
      "m7: 50365\n"
     ]
    }
   ],
   "source": [
    "for i in range(10000):\n",
    "    if i % 100 == 0:\n",
    "        print(i)\n",
    "    monkeyRounds()\n",
    "    \n",
    "print(f\"m0: {m0.level}\")\n",
    "print(f\"m1: {m1.level}\")\n",
    "print(f\"m2: {m2.level}\")\n",
    "print(f\"m3: {m3.level}\")\n",
    "print(f\"m4: {m4.level}\")\n",
    "print(f\"m5: {m5.level}\")\n",
    "print(f\"m6: {m6.level}\")\n",
    "print(f\"m7: {m7.level}\")\n"
   ]
  },
  {
   "cell_type": "code",
   "execution_count": 8,
   "metadata": {
    "ExecuteTime": {
     "end_time": "2022-12-11T11:07:26.457449Z",
     "start_time": "2022-12-11T11:07:26.449125Z"
    }
   },
   "outputs": [
    {
     "data": {
      "text/plain": [
       "11614682178"
      ]
     },
     "execution_count": 8,
     "metadata": {},
     "output_type": "execute_result"
    }
   ],
   "source": [
    "109098 * 106461"
   ]
  }
 ],
 "metadata": {
  "kernelspec": {
   "display_name": "Python 3",
   "language": "python",
   "name": "python3"
  },
  "language_info": {
   "codemirror_mode": {
    "name": "ipython",
    "version": 3
   },
   "file_extension": ".py",
   "mimetype": "text/x-python",
   "name": "python",
   "nbconvert_exporter": "python",
   "pygments_lexer": "ipython3",
   "version": "3.7.4"
  },
  "latex_envs": {
   "LaTeX_envs_menu_present": true,
   "autoclose": false,
   "autocomplete": true,
   "bibliofile": "biblio.bib",
   "cite_by": "apalike",
   "current_citInitial": 1,
   "eqLabelWithNumbers": true,
   "eqNumInitial": 1,
   "hotkeys": {
    "equation": "Ctrl-E",
    "itemize": "Ctrl-I"
   },
   "labels_anchors": false,
   "latex_user_defs": false,
   "report_style_numbering": false,
   "user_envs_cfg": false
  }
 },
 "nbformat": 4,
 "nbformat_minor": 4
}
