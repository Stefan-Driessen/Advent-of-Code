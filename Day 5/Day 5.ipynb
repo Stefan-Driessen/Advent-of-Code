{
 "cells": [
  {
   "cell_type": "code",
   "execution_count": 2,
   "metadata": {
    "ExecuteTime": {
     "end_time": "2022-12-11T20:15:19.638991Z",
     "start_time": "2022-12-11T20:15:19.629031Z"
    },
    "collapsed": true
   },
   "outputs": [
    {
     "ename": "IndentationError",
     "evalue": "unindent does not match any outer indentation level (<tokenize>, line 4)",
     "output_type": "error",
     "traceback": [
      "\u001b[0;36m  File \u001b[0;32m\"<tokenize>\"\u001b[0;36m, line \u001b[0;32m4\u001b[0m\n\u001b[0;31m    [J] [N] [D] [F] [J] [H] [B]\u001b[0m\n\u001b[0m    ^\u001b[0m\n\u001b[0;31mIndentationError\u001b[0m\u001b[0;31m:\u001b[0m unindent does not match any outer indentation level\n"
     ]
    }
   ],
   "source": [
    "                [B] [L]     [J]    \n",
    "            [B] [Q] [R]     [D] [T]\n",
    "            [G] [H] [H] [M] [N] [F]\n",
    "        [J] [N] [D] [F] [J] [H] [B]\n",
    "    [Q] [F] [W] [S] [V] [N] [F] [N]\n",
    "[W] [N] [H] [M] [L] [B] [R] [T] [Q]\n",
    "[L] [T] [C] [R] [R] [J] [W] [Z] [L]\n",
    "[S] [J] [S] [T] [T] [M] [D] [B] [H]\n",
    " 1   2   3   4   5   6   7   8   9 "
   ]
  },
  {
   "cell_type": "code",
   "execution_count": 73,
   "metadata": {
    "ExecuteTime": {
     "end_time": "2022-12-11T20:53:54.837119Z",
     "start_time": "2022-12-11T20:53:54.832110Z"
    }
   },
   "outputs": [],
   "source": [
    "with open('input.txt') as f:\n",
    "    rows = f.read()"
   ]
  },
  {
   "cell_type": "code",
   "execution_count": 78,
   "metadata": {
    "ExecuteTime": {
     "end_time": "2022-12-11T20:54:19.659094Z",
     "start_time": "2022-12-11T20:54:19.649563Z"
    }
   },
   "outputs": [],
   "source": [
    "stacks = {1: ['S', 'L', 'W'], 2: ['J', 'T', 'N', 'Q'], 3: ['S', 'C', 'H', 'F', 'J'], \n",
    " 4: ['T', 'R', 'M', 'W', 'N', 'G', 'B'], 5: ['T', 'R', 'L', 'S', 'D', 'H', 'Q', 'B'], \n",
    " 6: ['M', 'J', 'B', 'V', 'F', 'H', 'R', 'L'], 7: ['D', 'W', 'R', 'N', 'J', 'M'], \n",
    " 8: ['B', 'Z', 'T', 'F', 'H', 'N', 'D', 'J'], 9: ['H', 'L', 'Q', 'N', 'B', 'F','T']}"
   ]
  },
  {
   "cell_type": "code",
   "execution_count": 79,
   "metadata": {
    "ExecuteTime": {
     "end_time": "2022-12-11T20:54:19.935688Z",
     "start_time": "2022-12-11T20:54:19.929846Z"
    }
   },
   "outputs": [],
   "source": [
    "def move(nr, _from, _to):\n",
    "    for i in range(nr):\n",
    "        crate = stacks[_from].pop()\n",
    "        stacks[_to].append(crate)\n",
    "        \n",
    "def bigmove(nr, _from, _to):\n",
    "    crates = stacks[_from][-nr:]\n",
    "    stacks[_from] = stacks[_from][:-nr]\n",
    "    stacks[_to] += crates"
   ]
  },
  {
   "cell_type": "code",
   "execution_count": 80,
   "metadata": {
    "ExecuteTime": {
     "end_time": "2022-12-11T20:54:20.274531Z",
     "start_time": "2022-12-11T20:54:20.265624Z"
    }
   },
   "outputs": [],
   "source": [
    "for inst in rows.split('\\n'):\n",
    "    insts = inst.split(' ')\n",
    "    nr = int(insts[1])\n",
    "    fr = int(insts[3])\n",
    "    to = int(insts[5])\n",
    "    bigmove(nr, fr, to)"
   ]
  },
  {
   "cell_type": "code",
   "execution_count": 81,
   "metadata": {
    "ExecuteTime": {
     "end_time": "2022-12-11T20:54:21.309850Z",
     "start_time": "2022-12-11T20:54:21.300435Z"
    }
   },
   "outputs": [
    {
     "name": "stdout",
     "output_type": "stream",
     "text": [
      "['V', 'H', 'L', 'M']\n",
      "['N', 'M', 'M', 'S', 'W', 'D', 'R', 'L', 'W', 'J', 'N', 'S', 'R', 'B', 'N', 'G', 'R', 'H']\n",
      "['N', 'B', 'T', 'Q', 'F', 'T', 'T', 'D', 'Q', 'J', 'J', 'Q']\n",
      "['F', 'B', 'N', 'T']\n",
      "['S', 'B', 'D', 'L']\n",
      "['F', 'J']\n",
      "['H', 'R']\n",
      "['T', 'F', 'Z', 'H', 'W', 'H', 'J', 'L']\n",
      "['C', 'B']\n"
     ]
    },
    {
     "data": {
      "text/plain": [
       "'MHQTLJRLB'"
      ]
     },
     "execution_count": 81,
     "metadata": {},
     "output_type": "execute_result"
    }
   ],
   "source": [
    "sent = \"\"\n",
    "for i in stacks.keys():\n",
    "    if len(stacks[i]) == 0:\n",
    "        pass\n",
    "    else:\n",
    "        print(stacks[i])\n",
    "        sent += stacks[i][-1]\n",
    "\n",
    "sent"
   ]
  },
  {
   "cell_type": "code",
   "execution_count": 54,
   "metadata": {
    "ExecuteTime": {
     "end_time": "2022-12-11T20:49:19.191246Z",
     "start_time": "2022-12-11T20:49:19.182900Z"
    }
   },
   "outputs": [
    {
     "data": {
      "text/plain": [
       "['L', 'S']"
      ]
     },
     "execution_count": 54,
     "metadata": {},
     "output_type": "execute_result"
    }
   ],
   "source": [
    "['W', 'L', 'S'][-2:]"
   ]
  }
 ],
 "metadata": {
  "kernelspec": {
   "display_name": "Python 3",
   "language": "python",
   "name": "python3"
  },
  "language_info": {
   "codemirror_mode": {
    "name": "ipython",
    "version": 3
   },
   "file_extension": ".py",
   "mimetype": "text/x-python",
   "name": "python",
   "nbconvert_exporter": "python",
   "pygments_lexer": "ipython3",
   "version": "3.7.4"
  },
  "latex_envs": {
   "LaTeX_envs_menu_present": true,
   "autoclose": false,
   "autocomplete": true,
   "bibliofile": "biblio.bib",
   "cite_by": "apalike",
   "current_citInitial": 1,
   "eqLabelWithNumbers": true,
   "eqNumInitial": 1,
   "hotkeys": {
    "equation": "Ctrl-E",
    "itemize": "Ctrl-I"
   },
   "labels_anchors": false,
   "latex_user_defs": false,
   "report_style_numbering": false,
   "user_envs_cfg": false
  }
 },
 "nbformat": 4,
 "nbformat_minor": 4
}
