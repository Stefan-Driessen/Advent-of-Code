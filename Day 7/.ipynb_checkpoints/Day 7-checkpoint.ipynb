{
 "cells": [
  {
   "cell_type": "code",
   "execution_count": 13,
   "metadata": {
    "ExecuteTime": {
     "end_time": "2022-12-10T15:57:42.836502Z",
     "start_time": "2022-12-10T15:57:42.832355Z"
    }
   },
   "outputs": [],
   "source": [
    "# Read input\n",
    "with open(\"inputs.txt\") as f:\n",
    "    rows = f.read()"
   ]
  },
  {
   "cell_type": "code",
   "execution_count": 21,
   "metadata": {
    "ExecuteTime": {
     "end_time": "2022-12-10T16:12:31.240729Z",
     "start_time": "2022-12-10T16:12:31.236610Z"
    },
    "scrolled": true
   },
   "outputs": [],
   "source": [
    "class directory:\n",
    "    def __init__(self, _name, _parent, _children = [], _size = 0, _indentation = 0):\n",
    "        self.name = _name\n",
    "        self.parent = _parent\n",
    "        self.children = _children\n",
    "        self.size = _size\n",
    "        self.indentation = _indentation\n",
    "        \n",
    "    def addChild(self, _child):\n",
    "        self.children.append(_child)\n",
    "        \n",
    "    def selectRelChild(self, _name):\n",
    "        for child in self.children:\n",
    "            if child.name == _name:\n",
    "                return child\n",
    "\n",
    "        print(\"Didn't find the child you were looking for!)\n",
    "        return None\n",
    "        \n",
    "    def processCommand(self, cmds, pos):\n",
    "        # Exit if we reach the end of the commands\n",
    "        if pos == len(cmds) - 1:\n",
    "            return\n",
    "        \n",
    "        # Else, read command\n",
    "        cmd = cmds[pos].split(\" \")\n",
    "        \n",
    "        # deal with the leaves first\n",
    "        if cmd[0].isnumeric():\n",
    "            # We're adding a new file to the directory\n",
    "            self.children.append(directory(cmd[1]), self, [], cmd[0])\n",
    "            self.size += int(cmd[0])\n",
    "            self.parent.size += int(cmd[0])\n",
    "            self.processCommand(cmds, pos + 1)\n",
    "        \n",
    "        elif cmd[0] == \"dir\":\n",
    "            # we're adding a fancy new directory\n",
    "            newDir = directory(cmd[1])\n",
    "            self.children.append(newDir)\n",
    "            self.processCommand(cmds, pos + 1)\n",
    "            \n",
    "        else:\n",
    "            assert cmd[0] == \"$\", f\"This should be a command, but instead its: {cmd}\"\n",
    "            \n",
    "            # We are going to be adding new children in the next commands.\n",
    "            if cmd[1] == \"ls\"\n",
    "            self.processCommand(cmds, pos + 1)\n",
    "            \n",
    "            else:\n",
    "                assert cmd[1] == \"cd\", f\"The only command here should be a cd, instead its: {cmd}\"\n",
    "                if cmd[2] == \"..\":\n",
    "                    self.parent.processCommand(cmds, post+1)\n",
    "                else:\n",
    "                    "
   ]
  },
  {
   "cell_type": "code",
   "execution_count": null,
   "metadata": {},
   "outputs": [],
   "source": [
    "a = [\"a\", 0]\n",
    "b = [\"b\", 1]\n",
    "c = [\"c\", 2]\n",
    "\n",
    "testRow = [a, b, c]:\n",
    "for obj in testRow:\n",
    "    if obj"
   ]
  },
  {
   "cell_type": "code",
   "execution_count": 20,
   "metadata": {
    "ExecuteTime": {
     "end_time": "2022-12-10T16:10:41.609452Z",
     "start_time": "2022-12-10T16:10:41.605291Z"
    }
   },
   "outputs": [],
   "source": [
    "root = directory(\"/\", None)"
   ]
  }
 ],
 "metadata": {
  "kernelspec": {
   "display_name": "Python 3",
   "language": "python",
   "name": "python3"
  },
  "language_info": {
   "codemirror_mode": {
    "name": "ipython",
    "version": 3
   },
   "file_extension": ".py",
   "mimetype": "text/x-python",
   "name": "python",
   "nbconvert_exporter": "python",
   "pygments_lexer": "ipython3",
   "version": "3.7.4"
  },
  "latex_envs": {
   "LaTeX_envs_menu_present": true,
   "autoclose": false,
   "autocomplete": true,
   "bibliofile": "biblio.bib",
   "cite_by": "apalike",
   "current_citInitial": 1,
   "eqLabelWithNumbers": true,
   "eqNumInitial": 1,
   "hotkeys": {
    "equation": "Ctrl-E",
    "itemize": "Ctrl-I"
   },
   "labels_anchors": false,
   "latex_user_defs": false,
   "report_style_numbering": false,
   "user_envs_cfg": false
  }
 },
 "nbformat": 4,
 "nbformat_minor": 4
}
