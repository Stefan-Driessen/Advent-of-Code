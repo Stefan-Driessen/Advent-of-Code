{
 "cells": [
  {
   "cell_type": "code",
   "execution_count": 1,
   "metadata": {
    "ExecuteTime": {
     "end_time": "2022-12-11T19:47:01.969436Z",
     "start_time": "2022-12-11T19:47:01.963157Z"
    }
   },
   "outputs": [],
   "source": [
    "with open('input.txt') as f:\n",
    "    rows = f.read()"
   ]
  },
  {
   "cell_type": "code",
   "execution_count": 2,
   "metadata": {
    "ExecuteTime": {
     "end_time": "2022-12-11T19:47:35.655899Z",
     "start_time": "2022-12-11T19:47:35.650984Z"
    }
   },
   "outputs": [],
   "source": [
    "pairs = rows.split('\\n')"
   ]
  },
  {
   "cell_type": "code",
   "execution_count": 10,
   "metadata": {
    "ExecuteTime": {
     "end_time": "2022-12-11T19:57:00.799633Z",
     "start_time": "2022-12-11T19:57:00.793382Z"
    }
   },
   "outputs": [
    {
     "name": "stdout",
     "output_type": "stream",
     "text": [
      "20 45\n"
     ]
    }
   ],
   "source": [
    "r1, r2 = '20-45,13-44'.split(',')\n",
    "r1min, r1max = r1.split('-')\n",
    "print(r1min, r1max)"
   ]
  },
  {
   "cell_type": "code",
   "execution_count": 15,
   "metadata": {
    "ExecuteTime": {
     "end_time": "2022-12-11T20:05:56.284536Z",
     "start_time": "2022-12-11T20:05:56.271233Z"
    }
   },
   "outputs": [],
   "source": [
    "def contains(pair):\n",
    "    r1, r2 = pair.split(',')\n",
    "    r1min, r1max = r1.split('-')\n",
    "    r2min, r2max = r2.split('-')\n",
    "    if (int(r1min) <= int(r2min)) & (int(r1max) >= int(r2max)):\n",
    "        return 1\n",
    "    elif (int(r1min) >= int(r2min)) & (int(r1max) <= int(r2max)):\n",
    "        return 1\n",
    "    else:\n",
    "        return 0\n",
    "    \n",
    "def overlap(pair):\n",
    "    r1, r2 = pair.split(',')\n",
    "    r1min, r1max = r1.split('-')\n",
    "    r2min, r2max = r2.split('-')\n",
    "    if int(r1min) < int(r2min):\n",
    "        if int(r1max) >= int(r2min):\n",
    "            return 1\n",
    "        else:\n",
    "            return 0\n",
    "    elif r1min == r2min:\n",
    "        return 1\n",
    "    else:\n",
    "        # r2min < r1min\n",
    "        if int(r2max) >= int(r1min):\n",
    "            return 1\n",
    "        else:\n",
    "            return 0\n",
    "        return 0"
   ]
  },
  {
   "cell_type": "code",
   "execution_count": 16,
   "metadata": {
    "ExecuteTime": {
     "end_time": "2022-12-11T20:05:58.259554Z",
     "start_time": "2022-12-11T20:05:58.249864Z"
    }
   },
   "outputs": [
    {
     "data": {
      "text/plain": [
       "861"
      ]
     },
     "execution_count": 16,
     "metadata": {},
     "output_type": "execute_result"
    }
   ],
   "source": [
    "nrContains = 0\n",
    "for p in pairs:\n",
    "    nrContains += overlap(p)\n",
    "    \n",
    "nrContains"
   ]
  }
 ],
 "metadata": {
  "kernelspec": {
   "display_name": "Python 3",
   "language": "python",
   "name": "python3"
  },
  "language_info": {
   "codemirror_mode": {
    "name": "ipython",
    "version": 3
   },
   "file_extension": ".py",
   "mimetype": "text/x-python",
   "name": "python",
   "nbconvert_exporter": "python",
   "pygments_lexer": "ipython3",
   "version": "3.7.4"
  },
  "latex_envs": {
   "LaTeX_envs_menu_present": true,
   "autoclose": false,
   "autocomplete": true,
   "bibliofile": "biblio.bib",
   "cite_by": "apalike",
   "current_citInitial": 1,
   "eqLabelWithNumbers": true,
   "eqNumInitial": 1,
   "hotkeys": {
    "equation": "Ctrl-E",
    "itemize": "Ctrl-I"
   },
   "labels_anchors": false,
   "latex_user_defs": false,
   "report_style_numbering": false,
   "user_envs_cfg": false
  }
 },
 "nbformat": 4,
 "nbformat_minor": 4
}
